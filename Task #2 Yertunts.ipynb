{
 "cells": [
  {
   "cell_type": "code",
   "execution_count": 34,
   "metadata": {
    "scrolled": true
   },
   "outputs": [
    {
     "name": "stdout",
     "output_type": "stream",
     "text": [
      "Please enter your number here: 12345\n",
      "Your output is dispayed here:  5 4 3 2 1\n"
     ]
    }
   ],
   "source": [
    "num=int(input('Please enter your number here: '))\n",
    "reverse_num=0\n",
    "while num>0:\n",
    "    reverse_num=reverse_num*10+num%10\n",
    "    num=num//10\n",
    "\n",
    "rev_num_to_seperate=str(reverse_num)\n",
    "n=1\n",
    "list_rev_num_to_seperate=[rev_num_to_seperate[x:x+n] for x in range(0,len(rev_num_to_seperate),n)]\n",
    "print('Your output is dispayed here: ',*list_rev_num_to_seperate)"
   ]
  },
  {
   "cell_type": "code",
   "execution_count": 35,
   "metadata": {},
   "outputs": [
    {
     "data": {
      "text/plain": [
       "['5', '4', '3', '2', '1']"
      ]
     },
     "execution_count": 35,
     "metadata": {},
     "output_type": "execute_result"
    }
   ],
   "source": [
    "list_rev_num_to_seperate"
   ]
  },
  {
   "cell_type": "code",
   "execution_count": null,
   "metadata": {},
   "outputs": [],
   "source": []
  }
 ],
 "metadata": {
  "kernelspec": {
   "display_name": "Python 3",
   "language": "python",
   "name": "python3"
  },
  "language_info": {
   "codemirror_mode": {
    "name": "ipython",
    "version": 3
   },
   "file_extension": ".py",
   "mimetype": "text/x-python",
   "name": "python",
   "nbconvert_exporter": "python",
   "pygments_lexer": "ipython3",
   "version": "3.8.3"
  }
 },
 "nbformat": 4,
 "nbformat_minor": 4
}
